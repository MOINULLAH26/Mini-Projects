{
  "nbformat": 4,
  "nbformat_minor": 0,
  "metadata": {
    "colab": {
      "provenance": []
    },
    "kernelspec": {
      "name": "python3",
      "display_name": "Python 3"
    },
    "language_info": {
      "name": "python"
    }
  },
  "cells": [
    {
      "cell_type": "code",
      "execution_count": null,
      "metadata": {
        "colab": {
          "base_uri": "https://localhost:8080/"
        },
        "id": "KcJCMoXQlbFC",
        "outputId": "09cd45d7-e04d-4404-cccf-995f5d4b9cf2"
      },
      "outputs": [
        {
          "output_type": "stream",
          "name": "stdout",
          "text": [
            "Enter Lower bound:- 1\n",
            "Enter Upper bound:- 25\n",
            "\n",
            "\t You've only  5  chances to guess the integer!\n",
            "\n",
            "Guess a number:- 15\n",
            "You guessed too small!\n",
            "Guess a number:- 20\n",
            "You Guessed too high!\n",
            "Guess a number:- 17\n",
            "You Guessed too high!\n",
            "Guess a number:- 16\n",
            "Congratulations you did it in  4  try\n"
          ]
        }
      ],
      "source": [
        "import random\n",
        "import math\n",
        "lower = int(input(\"Enter Lower bound:- \"))\n",
        "upper = int(input(\"Enter Upper bound:- \"))\n",
        "x = random.randint(lower, upper)\n",
        "print(\"\\n\\t You've only \",\n",
        "       round(math.log(upper - lower + 1, 2)),\n",
        "      \" chances to guess the integer!\\n\")\n",
        "count = 0\n",
        "while count < math.log(upper - lower + 1, 2):\n",
        "    count += 1\n",
        "    guess = int(input(\"Guess a number:- \"))\n",
        "    if x == guess:\n",
        "        print(\"Congratulations you did it in \",\n",
        "              count, \" try\")\n",
        "        break\n",
        "    elif x > guess:\n",
        "        print(\"You guessed too small!\")\n",
        "    elif x < guess:\n",
        "      \n",
        "        print(\"You Guessed too high!\")\n",
        "if count >= math.log(upper - lower + 1, 2):\n",
        "    print(\"\\nThe number is %d\" % x)\n",
        "    print(\"\\tBetter Luck Next time!\")"
      ]
    }
  ]
}