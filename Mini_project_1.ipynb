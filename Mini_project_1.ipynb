{
  "nbformat": 4,
  "nbformat_minor": 0,
  "metadata": {
    "colab": {
      "provenance": []
    },
    "kernelspec": {
      "name": "python3",
      "display_name": "Python 3"
    },
    "language_info": {
      "name": "python"
    }
  },
  "cells": [
    {
      "cell_type": "markdown",
      "source": [
        "Rock paper scissors game"
      ],
      "metadata": {
        "id": "H3j520KD3gMC"
      }
    },
    {
      "cell_type": "code",
      "execution_count": null,
      "metadata": {
        "id": "MaJgUCcMKtHQ",
        "colab": {
          "base_uri": "https://localhost:8080/"
        },
        "outputId": "b953e6c3-405a-4d44-855c-38486cca1947"
      },
      "outputs": [
        {
          "output_type": "stream",
          "name": "stdout",
          "text": [
            "Enter a choice (rock, paper, scissors): scissors\n",
            "\n",
            "You chose scissors, computer chose rock.\n",
            "\n",
            "Rock smashes scissors! You lose.\n"
          ]
        }
      ],
      "source": [
        "import random\n",
        "user = input(\"Enter a choice (rock, paper, scissors): \")\n",
        "possible_actions = [\"rock\", \"paper\", \"scissors\"]\n",
        "computer_action = random.choice(possible_actions)\n",
        "print(f\"\\nYou chose {user}, computer chose {computer_action}.\\n\")\n",
        "if user == computer_action:\n",
        "    print(f\"Both players selected {user}. It's a tie!\")\n",
        "elif user  == \"rock\":\n",
        "    if computer_action == \"scissors\":\n",
        "        print(\"Rock smashes scissors! You win!\")\n",
        "    else:\n",
        "        print(\"Paper covers rock! You lose.\")\n",
        "elif user == \"paper\":\n",
        "    if computer_action == \"rock\":\n",
        "        print(\"Paper covers rock! You win!\")\n",
        "    else:\n",
        "        print(\"Scissors cuts paper! You lose.\")\n",
        "elif user == \"scissors\":\n",
        "    if computer_action == \"paper\":\n",
        "        print(\"Scissors cuts paper! You win!\")\n",
        "    else:\n",
        "        print(\"Rock smashes scissors! You lose.\")"
      ]
    }
  ]
}